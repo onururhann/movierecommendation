{
 "cells": [
  {
   "cell_type": "code",
   "execution_count": 1,
   "metadata": {},
   "outputs": [],
   "source": [
    "import numpy as np\n",
    "import pandas as pd\n",
    "import seaborn as sns\n",
    "import os"
   ]
  },
  {
   "cell_type": "code",
   "execution_count": 27,
   "metadata": {},
   "outputs": [
    {
     "data": {
      "text/html": [
       "<div>\n",
       "<style scoped>\n",
       "    .dataframe tbody tr th:only-of-type {\n",
       "        vertical-align: middle;\n",
       "    }\n",
       "\n",
       "    .dataframe tbody tr th {\n",
       "        vertical-align: top;\n",
       "    }\n",
       "\n",
       "    .dataframe thead th {\n",
       "        text-align: right;\n",
       "    }\n",
       "</style>\n",
       "<table border=\"1\" class=\"dataframe\">\n",
       "  <thead>\n",
       "    <tr style=\"text-align: right;\">\n",
       "      <th></th>\n",
       "      <th>user_id</th>\n",
       "      <th>item_id</th>\n",
       "      <th>rating</th>\n",
       "      <th>timestamp</th>\n",
       "    </tr>\n",
       "  </thead>\n",
       "  <tbody>\n",
       "    <tr>\n",
       "      <td>0</td>\n",
       "      <td>186</td>\n",
       "      <td>302</td>\n",
       "      <td>3</td>\n",
       "      <td>891717742</td>\n",
       "    </tr>\n",
       "    <tr>\n",
       "      <td>1</td>\n",
       "      <td>22</td>\n",
       "      <td>377</td>\n",
       "      <td>1</td>\n",
       "      <td>878887116</td>\n",
       "    </tr>\n",
       "    <tr>\n",
       "      <td>2</td>\n",
       "      <td>244</td>\n",
       "      <td>51</td>\n",
       "      <td>2</td>\n",
       "      <td>880606923</td>\n",
       "    </tr>\n",
       "    <tr>\n",
       "      <td>3</td>\n",
       "      <td>166</td>\n",
       "      <td>346</td>\n",
       "      <td>1</td>\n",
       "      <td>886397596</td>\n",
       "    </tr>\n",
       "    <tr>\n",
       "      <td>4</td>\n",
       "      <td>298</td>\n",
       "      <td>474</td>\n",
       "      <td>4</td>\n",
       "      <td>884182806</td>\n",
       "    </tr>\n",
       "  </tbody>\n",
       "</table>\n",
       "</div>"
      ],
      "text/plain": [
       "   user_id  item_id  rating  timestamp\n",
       "0      186      302       3  891717742\n",
       "1       22      377       1  878887116\n",
       "2      244       51       2  880606923\n",
       "3      166      346       1  886397596\n",
       "4      298      474       4  884182806"
      ]
     },
     "execution_count": 27,
     "metadata": {},
     "output_type": "execute_result"
    }
   ],
   "source": [
    "columns = [\"user_id\", \"item_id\", \"rating\", \"timestamp\"]\n",
    "# Function to read textfile dataset and load it as a Pandas DataFrame\n",
    "def loadData(file, columns):\n",
    "    df = pd.read_table(file, sep='\\t')\n",
    "    df.columns = columns\n",
    "    return df\n",
    "\n",
    "u_data = loadData(\"C:\\\\Users\\\\Onur\\\\Desktop\\\\ml-100k\\\\u.data\",columns)\n",
    "u_data.head(5)"
   ]
  },
  {
   "cell_type": "code",
   "execution_count": 28,
   "metadata": {},
   "outputs": [
    {
     "data": {
      "text/plain": [
       "(99999, 4)"
      ]
     },
     "execution_count": 28,
     "metadata": {},
     "output_type": "execute_result"
    }
   ],
   "source": [
    "u_data.shape"
   ]
  },
  {
   "cell_type": "code",
   "execution_count": 29,
   "metadata": {},
   "outputs": [
    {
     "name": "stdout",
     "output_type": "stream",
     "text": [
      "The number of unique users in the data:  943\n",
      "The number of unique movies in the data:  1682\n",
      "The number of unique ratings in the data:  5\n",
      "The number of unique timestamps in the data:  49282\n"
     ]
    }
   ],
   "source": [
    "print(\"The number of unique users in the data: \", u_data['user_id'].nunique())\n",
    "print(\"The number of unique movies in the data: \", u_data['item_id'].nunique())\n",
    "print(\"The number of unique ratings in the data: \", u_data['rating'].nunique())\n",
    "print(\"The number of unique timestamps in the data: \", u_data['timestamp'].nunique())"
   ]
  },
  {
   "cell_type": "code",
   "execution_count": 30,
   "metadata": {},
   "outputs": [
    {
     "data": {
      "text/plain": [
       "<matplotlib.axes._subplots.AxesSubplot at 0x1ad28fc6cc8>"
      ]
     },
     "execution_count": 30,
     "metadata": {},
     "output_type": "execute_result"
    },
    {
     "data": {
      "image/png": "[encoded data removed]",
      "text/plain": [
       "<Figure size 432x288 with 1 Axes>"
      ]
     },
     "metadata": {
      "needs_background": "light"
     },
     "output_type": "display_data"
    }
   ],
   "source": [
    "# Examine the distribution of movie ratings\n",
    "import matplotlib.pyplot as plt\n",
    "#pd.options.display.mpl_style = 'default'\n",
    "# u_data['rating'].plot(kind='hist')\n",
    "sns.countplot(u_data['rating'], color='gray')"
   ]
  },
  {
   "cell_type": "code",
   "execution_count": 31,
   "metadata": {},
   "outputs": [
    {
     "data": {
      "text/plain": [
       "<matplotlib.axes._subplots.AxesSubplot at 0x1ad21dd9a88>"
      ]
     },
     "execution_count": 31,
     "metadata": {},
     "output_type": "execute_result"
    },
    {
     "data": {
      "image/png": "[encoded data removed]",
      "text/plain": [
       "<Figure size 432x288 with 1 Axes>"
      ]
     },
     "metadata": {
      "needs_background": "light"
     },
     "output_type": "display_data"
    }
   ],
   "source": [
    "u_data['rating'].value_counts().plot(kind='barh')"
   ]
  },
  {
   "cell_type": "code",
   "execution_count": 32,
   "metadata": {},
   "outputs": [
    {
     "data": {
      "text/html": [
       "<div>\n",
       "<style scoped>\n",
       "    .dataframe tbody tr th:only-of-type {\n",
       "        vertical-align: middle;\n",
       "    }\n",
       "\n",
       "    .dataframe tbody tr th {\n",
       "        vertical-align: top;\n",
       "    }\n",
       "\n",
       "    .dataframe thead th {\n",
       "        text-align: right;\n",
       "    }\n",
       "</style>\n",
       "<table border=\"1\" class=\"dataframe\">\n",
       "  <thead>\n",
       "    <tr style=\"text-align: right;\">\n",
       "      <th></th>\n",
       "      <th>user_id</th>\n",
       "      <th>item_id</th>\n",
       "      <th>rating</th>\n",
       "    </tr>\n",
       "  </thead>\n",
       "  <tbody>\n",
       "    <tr>\n",
       "      <td>0</td>\n",
       "      <td>186</td>\n",
       "      <td>302</td>\n",
       "      <td>3</td>\n",
       "    </tr>\n",
       "    <tr>\n",
       "      <td>1</td>\n",
       "      <td>22</td>\n",
       "      <td>377</td>\n",
       "      <td>1</td>\n",
       "    </tr>\n",
       "    <tr>\n",
       "      <td>2</td>\n",
       "      <td>244</td>\n",
       "      <td>51</td>\n",
       "      <td>2</td>\n",
       "    </tr>\n",
       "    <tr>\n",
       "      <td>3</td>\n",
       "      <td>166</td>\n",
       "      <td>346</td>\n",
       "      <td>1</td>\n",
       "    </tr>\n",
       "    <tr>\n",
       "      <td>4</td>\n",
       "      <td>298</td>\n",
       "      <td>474</td>\n",
       "      <td>4</td>\n",
       "    </tr>\n",
       "  </tbody>\n",
       "</table>\n",
       "</div>"
      ],
      "text/plain": [
       "   user_id  item_id  rating\n",
       "0      186      302       3\n",
       "1       22      377       1\n",
       "2      244       51       2\n",
       "3      166      346       1\n",
       "4      298      474       4"
      ]
     },
     "execution_count": 32,
     "metadata": {},
     "output_type": "execute_result"
    }
   ],
   "source": [
    "tempData = u_data[['user_id', 'item_id', 'rating']]\n",
    "tempData.head(5)"
   ]
  },
  {
   "cell_type": "code",
   "execution_count": 33,
   "metadata": {},
   "outputs": [
    {
     "data": {
      "text/plain": [
       "(943, 1682)"
      ]
     },
     "execution_count": 33,
     "metadata": {},
     "output_type": "execute_result"
    }
   ],
   "source": [
    "#userItemDF = pd.pivot_table(data = tempData,\n",
    "#                            index='user_id', columns='item_id', fill_value='rating')\n",
    "#userItemDF.head()\n",
    "\n",
    "userItemDF = pd.pivot_table(data = tempData, \n",
    "                            index='user_id', \n",
    "                            columns='item_id',\n",
    "                            fill_value=0,\n",
    "                            values = 'rating')\n",
    "\n",
    "userItemMatrix = userItemDF.apply(func= lambda x: x - np.mean(x), axis = 1)\n",
    "userItemMatrix = userItemDF.values.astype(float)\n",
    "userItemMatrix.shape"
   ]
  },
  {
   "cell_type": "code",
   "execution_count": 34,
   "metadata": {},
   "outputs": [
    {
     "data": {
      "text/plain": [
       "array([[5., 3., 4., ..., 0., 0., 0.],\n",
       "       [4., 0., 0., ..., 0., 0., 0.],\n",
       "       [0., 0., 0., ..., 0., 0., 0.],\n",
       "       [0., 0., 0., ..., 0., 0., 0.],\n",
       "       [4., 3., 0., ..., 0., 0., 0.]])"
      ]
     },
     "execution_count": 34,
     "metadata": {},
     "output_type": "execute_result"
    }
   ],
   "source": [
    "userItemMatrix[:5,:]"
   ]
  },
  {
   "cell_type": "code",
   "execution_count": 35,
   "metadata": {},
   "outputs": [
    {
     "name": "stdout",
     "output_type": "stream",
     "text": [
      "Shape of the user item matrix:  (943, 1682)\n"
     ]
    }
   ],
   "source": [
    "print(\"Shape of the user item matrix: \", userItemDF.shape)"
   ]
  },
  {
   "cell_type": "code",
   "execution_count": 36,
   "metadata": {},
   "outputs": [],
   "source": [
    "## Number of ratings by user\n",
    "top_users = np.sum(userItemMatrix, axis = 1).argsort()[-10:][::-1]\n",
    "top_bought_bonds =  np.sum(userItemMatrix, axis = 0).argsort()[-10:][::-1]"
   ]
  },
  {
   "cell_type": "code",
   "execution_count": 37,
   "metadata": {},
   "outputs": [
    {
     "data": {
      "text/plain": [
       "Int64Index([450, 655, 13, 416, 276, 303, 7, 846, 59, 234], dtype='int64', name='user_id')"
      ]
     },
     "execution_count": 37,
     "metadata": {},
     "output_type": "execute_result"
    }
   ],
   "source": [
    "userItemDF.iloc[top_users].index"
   ]
  },
  {
   "cell_type": "code",
   "execution_count": 38,
   "metadata": {},
   "outputs": [
    {
     "name": "stdout",
     "output_type": "stream",
     "text": [
      "sparsity percentage:  0.4837254614121949\n"
     ]
    }
   ],
   "source": [
    "cnt_of_zero_cells = np.sum(userItemMatrix == 0)\n",
    "cnt_of_one_cells = np.sum(userItemMatrix >= 0)\n",
    "print(\"sparsity percentage: \", cnt_of_zero_cells/(cnt_of_zero_cells + cnt_of_one_cells))"
   ]
  },
  {
   "cell_type": "code",
   "execution_count": 39,
   "metadata": {},
   "outputs": [],
   "source": [
    "from scipy.sparse.linalg import svds\n",
    "from sklearn.decomposition import TruncatedSVD, NMF\n",
    "from sklearn.metrics.pairwise import cosine_similarity\n",
    "from scipy.sparse.linalg import svds"
   ]
  },
  {
   "cell_type": "code",
   "execution_count": 40,
   "metadata": {},
   "outputs": [
    {
     "data": {
      "text/plain": [
       "(150, 1682)"
      ]
     },
     "execution_count": 40,
     "metadata": {},
     "output_type": "execute_result"
    }
   ],
   "source": [
    "U, s, Vt = svds(userItemMatrix, k=150)\n",
    "Vt.shape"
   ]
  },
  {
   "cell_type": "code",
   "execution_count": 41,
   "metadata": {},
   "outputs": [
    {
     "data": {
      "text/html": [
       "<div>\n",
       "<style scoped>\n",
       "    .dataframe tbody tr th:only-of-type {\n",
       "        vertical-align: middle;\n",
       "    }\n",
       "\n",
       "    .dataframe tbody tr th {\n",
       "        vertical-align: top;\n",
       "    }\n",
       "\n",
       "    .dataframe thead th {\n",
       "        text-align: right;\n",
       "    }\n",
       "</style>\n",
       "<table border=\"1\" class=\"dataframe\">\n",
       "  <thead>\n",
       "    <tr style=\"text-align: right;\">\n",
       "      <th>item_id</th>\n",
       "      <th>1</th>\n",
       "      <th>2</th>\n",
       "      <th>3</th>\n",
       "      <th>4</th>\n",
       "      <th>5</th>\n",
       "      <th>6</th>\n",
       "      <th>7</th>\n",
       "      <th>8</th>\n",
       "      <th>9</th>\n",
       "      <th>10</th>\n",
       "      <th>...</th>\n",
       "      <th>1673</th>\n",
       "      <th>1674</th>\n",
       "      <th>1675</th>\n",
       "      <th>1676</th>\n",
       "      <th>1677</th>\n",
       "      <th>1678</th>\n",
       "      <th>1679</th>\n",
       "      <th>1680</th>\n",
       "      <th>1681</th>\n",
       "      <th>1682</th>\n",
       "    </tr>\n",
       "    <tr>\n",
       "      <th>item_id</th>\n",
       "      <th></th>\n",
       "      <th></th>\n",
       "      <th></th>\n",
       "      <th></th>\n",
       "      <th></th>\n",
       "      <th></th>\n",
       "      <th></th>\n",
       "      <th></th>\n",
       "      <th></th>\n",
       "      <th></th>\n",
       "      <th></th>\n",
       "      <th></th>\n",
       "      <th></th>\n",
       "      <th></th>\n",
       "      <th></th>\n",
       "      <th></th>\n",
       "      <th></th>\n",
       "      <th></th>\n",
       "      <th></th>\n",
       "      <th></th>\n",
       "      <th></th>\n",
       "    </tr>\n",
       "  </thead>\n",
       "  <tbody>\n",
       "    <tr>\n",
       "      <td>1</td>\n",
       "      <td>1.000000</td>\n",
       "      <td>0.040109</td>\n",
       "      <td>-0.010311</td>\n",
       "      <td>0.025244</td>\n",
       "      <td>-0.056239</td>\n",
       "      <td>0.031500</td>\n",
       "      <td>-0.006896</td>\n",
       "      <td>-0.018654</td>\n",
       "      <td>0.014580</td>\n",
       "      <td>0.059609</td>\n",
       "      <td>...</td>\n",
       "      <td>0.038575</td>\n",
       "      <td>-0.024017</td>\n",
       "      <td>-0.050575</td>\n",
       "      <td>-0.050575</td>\n",
       "      <td>0.033138</td>\n",
       "      <td>0.049797</td>\n",
       "      <td>0.049797</td>\n",
       "      <td>0.049797</td>\n",
       "      <td>0.016134</td>\n",
       "      <td>0.052618</td>\n",
       "    </tr>\n",
       "    <tr>\n",
       "      <td>2</td>\n",
       "      <td>0.040109</td>\n",
       "      <td>1.000000</td>\n",
       "      <td>-0.016780</td>\n",
       "      <td>0.065758</td>\n",
       "      <td>-0.042892</td>\n",
       "      <td>0.126013</td>\n",
       "      <td>-0.002664</td>\n",
       "      <td>-0.094529</td>\n",
       "      <td>-0.004159</td>\n",
       "      <td>0.016922</td>\n",
       "      <td>...</td>\n",
       "      <td>0.105296</td>\n",
       "      <td>-0.110598</td>\n",
       "      <td>-0.052890</td>\n",
       "      <td>-0.052890</td>\n",
       "      <td>0.029045</td>\n",
       "      <td>-0.043946</td>\n",
       "      <td>-0.043946</td>\n",
       "      <td>-0.043946</td>\n",
       "      <td>0.019092</td>\n",
       "      <td>0.009707</td>\n",
       "    </tr>\n",
       "    <tr>\n",
       "      <td>3</td>\n",
       "      <td>-0.010311</td>\n",
       "      <td>-0.016780</td>\n",
       "      <td>1.000000</td>\n",
       "      <td>-0.012935</td>\n",
       "      <td>-0.071125</td>\n",
       "      <td>-0.018411</td>\n",
       "      <td>-0.023646</td>\n",
       "      <td>-0.026627</td>\n",
       "      <td>0.021597</td>\n",
       "      <td>0.056490</td>\n",
       "      <td>...</td>\n",
       "      <td>0.092386</td>\n",
       "      <td>0.063366</td>\n",
       "      <td>-0.005213</td>\n",
       "      <td>-0.005213</td>\n",
       "      <td>0.173008</td>\n",
       "      <td>0.021112</td>\n",
       "      <td>0.021112</td>\n",
       "      <td>0.021112</td>\n",
       "      <td>-0.067158</td>\n",
       "      <td>0.070885</td>\n",
       "    </tr>\n",
       "    <tr>\n",
       "      <td>4</td>\n",
       "      <td>0.025244</td>\n",
       "      <td>0.065758</td>\n",
       "      <td>-0.012935</td>\n",
       "      <td>1.000000</td>\n",
       "      <td>0.007296</td>\n",
       "      <td>-0.062350</td>\n",
       "      <td>-0.048994</td>\n",
       "      <td>0.003986</td>\n",
       "      <td>0.102691</td>\n",
       "      <td>-0.024588</td>\n",
       "      <td>...</td>\n",
       "      <td>-0.004088</td>\n",
       "      <td>-0.051162</td>\n",
       "      <td>0.110311</td>\n",
       "      <td>0.110311</td>\n",
       "      <td>-0.047873</td>\n",
       "      <td>0.000813</td>\n",
       "      <td>0.000813</td>\n",
       "      <td>0.000813</td>\n",
       "      <td>-0.011099</td>\n",
       "      <td>0.044613</td>\n",
       "    </tr>\n",
       "    <tr>\n",
       "      <td>5</td>\n",
       "      <td>-0.056239</td>\n",
       "      <td>-0.042892</td>\n",
       "      <td>-0.071125</td>\n",
       "      <td>0.007296</td>\n",
       "      <td>1.000000</td>\n",
       "      <td>0.042605</td>\n",
       "      <td>-0.052533</td>\n",
       "      <td>0.000499</td>\n",
       "      <td>0.024171</td>\n",
       "      <td>-0.145256</td>\n",
       "      <td>...</td>\n",
       "      <td>-0.062187</td>\n",
       "      <td>-0.020264</td>\n",
       "      <td>0.007201</td>\n",
       "      <td>0.007201</td>\n",
       "      <td>-0.052948</td>\n",
       "      <td>-0.002688</td>\n",
       "      <td>-0.002688</td>\n",
       "      <td>-0.002688</td>\n",
       "      <td>0.040368</td>\n",
       "      <td>0.226578</td>\n",
       "    </tr>\n",
       "  </tbody>\n",
       "</table>\n",
       "<p>5 rows × 1682 columns</p>\n",
       "</div>"
      ],
      "text/plain": [
       "item_id      1         2         3         4         5         6         7     \\\n",
       "item_id                                                                         \n",
       "1        1.000000  0.040109 -0.010311  0.025244 -0.056239  0.031500 -0.006896   \n",
       "2        0.040109  1.000000 -0.016780  0.065758 -0.042892  0.126013 -0.002664   \n",
       "3       -0.010311 -0.016780  1.000000 -0.012935 -0.071125 -0.018411 -0.023646   \n",
       "4        0.025244  0.065758 -0.012935  1.000000  0.007296 -0.062350 -0.048994   \n",
       "5       -0.056239 -0.042892 -0.071125  0.007296  1.000000  0.042605 -0.052533   \n",
       "\n",
       "item_id      8         9         10    ...      1673      1674      1675  \\\n",
       "item_id                                ...                                 \n",
       "1       -0.018654  0.014580  0.059609  ...  0.038575 -0.024017 -0.050575   \n",
       "2       -0.094529 -0.004159  0.016922  ...  0.105296 -0.110598 -0.052890   \n",
       "3       -0.026627  0.021597  0.056490  ...  0.092386  0.063366 -0.005213   \n",
       "4        0.003986  0.102691 -0.024588  ... -0.004088 -0.051162  0.110311   \n",
       "5        0.000499  0.024171 -0.145256  ... -0.062187 -0.020264  0.007201   \n",
       "\n",
       "item_id      1676      1677      1678      1679      1680      1681      1682  \n",
       "item_id                                                                        \n",
       "1       -0.050575  0.033138  0.049797  0.049797  0.049797  0.016134  0.052618  \n",
       "2       -0.052890  0.029045 -0.043946 -0.043946 -0.043946  0.019092  0.009707  \n",
       "3       -0.005213  0.173008  0.021112  0.021112  0.021112 -0.067158  0.070885  \n",
       "4        0.110311 -0.047873  0.000813  0.000813  0.000813 -0.011099  0.044613  \n",
       "5        0.007201 -0.052948 -0.002688 -0.002688 -0.002688  0.040368  0.226578  \n",
       "\n",
       "[5 rows x 1682 columns]"
      ]
     },
     "execution_count": 41,
     "metadata": {},
     "output_type": "execute_result"
    }
   ],
   "source": [
    "#corrDF = pd.DataFrame(data = np.corrcoef(item_matrix), columns=userItemDF.columns)\n",
    "from sklearn.metrics.pairwise import cosine_similarity\n",
    "corrDF = cosine_similarity(X = Vt.T)\n",
    "corrDF.shape\n",
    "corrDF = pd.DataFrame(data=corrDF, columns=userItemDF.columns, index=userItemDF.columns)\n",
    "# Columns = items, indexes =. users .... use latter for user-user\n",
    "corrDF.head()"
   ]
  },
  {
   "cell_type": "code",
   "execution_count": 42,
   "metadata": {},
   "outputs": [
    {
     "data": {
      "text/plain": [
       "<matplotlib.axes._subplots.AxesSubplot at 0x1ad243a1508>"
      ]
     },
     "execution_count": 42,
     "metadata": {},
     "output_type": "execute_result"
    },
    {
     "data": {
      "image/png": "[encoded data removed]",
      "text/plain": [
       "<Figure size 432x288 with 1 Axes>"
      ]
     },
     "metadata": {
      "needs_background": "light"
     },
     "output_type": "display_data"
    }
   ],
   "source": [
    "tempDF = u_data.groupby(\"user_id\")[\"item_id\"].count().reset_index()\n",
    "tempDF.columns = [\"user_id\", \"cnt\"]\n",
    "sns.distplot(tempDF[\"cnt\"])\n",
    "#tempDF[\"cnt\"] >="
   ]
  },
  {
   "cell_type": "code",
   "execution_count": 43,
   "metadata": {},
   "outputs": [
    {
     "name": "stdout",
     "output_type": "stream",
     "text": [
      "Counter party  774\n",
      "want to rate item:  129\n"
     ]
    },
    {
     "data": {
      "text/plain": [
       "[(1091, 1, -0.004570871878082471),\n",
       " (1419, 1, -0.02045537556857485),\n",
       " (195, 3, -0.01888521439582638),\n",
       " (739, 2, 0.009988396268363682),\n",
       " (920, 2, -0.028285395871163042),\n",
       " (511, 3, 0.038306065748869134),\n",
       " (576, 1, 0.08713043995130428),\n",
       " (527, 1, 0.09075574887140694),\n",
       " (89, 2, 0.03074838584659732),\n",
       " (294, 1, 0.050150358725096114),\n",
       " (229, 2, 0.039706806287483784),\n",
       " (403, 2, 0.1359684794390428),\n",
       " (673, 2, -0.08760065342679248),\n",
       " (54, 1, -0.050210801594260154),\n",
       " (172, 3, -0.004652627548612779),\n",
       " (644, 4, -0.08187425285712303),\n",
       " (1028, 2, -0.05981421451751719),\n",
       " (563, 1, -0.036853210815994325),\n",
       " (127, 4, -0.04404508435931873),\n",
       " (28, 3, -0.005200250068105987),\n",
       " (185, 2, 0.014527185567996204),\n",
       " (871, 1, -0.1564975402063807),\n",
       " (52, 3, -0.10972948628059609),\n",
       " (105, 1, -0.0024537770936152448),\n",
       " (520, 3, 0.020875636836696715),\n",
       " (179, 5, -0.02163052243087014),\n",
       " (238, 5, -0.010876563467032896),\n",
       " (208, 2, 0.09744403034810915),\n",
       " (672, 1, 0.1257731055189866),\n",
       " (1182, 1, -0.06898699278613836),\n",
       " (31, 1, -0.049593880988024565),\n",
       " (1305, 3, 0.012629854658869077),\n",
       " (537, 2, -0.06006253317410252),\n",
       " (293, 1, 0.040727537341803094),\n",
       " (834, 1, 0.056513403835212646),\n",
       " (186, 3, -0.11942426012839574),\n",
       " (514, 2, 0.0808666993105015),\n",
       " (423, 1, -0.05321557120452285),\n",
       " (240, 1, 0.06503107642500118),\n",
       " (300, 2, -0.034717258283438884),\n",
       " (468, 2, 0.015025709631281326),\n",
       " (521, 2, 0.05979763757390364),\n",
       " (649, 3, 0.01808827932344069),\n",
       " (741, 1, 0.05367923207091135),\n",
       " (22, 2, -0.09279393447520311),\n",
       " (203, 2, 0.012062917471080408),\n",
       " (258, 1, -0.03789619071171405),\n",
       " (135, 3, -0.0560555774207756),\n",
       " (849, 1, 0.016616297621638514),\n",
       " (436, 2, 0.06469367953694868),\n",
       " (357, 2, -0.08188190970048267),\n",
       " (254, 1, -0.015695549687309088),\n",
       " (4, 2, 0.08609137931671315),\n",
       " (234, 2, -0.012887085335009608),\n",
       " (650, 1, 0.032395426027584946),\n",
       " (402, 2, -0.01173088305850138),\n",
       " (654, 2, -0.07398462294694158),\n",
       " (1110, 1, -0.005686070112305563),\n",
       " (373, 2, -0.12789477189572915),\n",
       " (559, 1, -0.01756934354294043),\n",
       " (176, 4, 0.006461862796721489),\n",
       " (68, 3, 0.018785827275409523),\n",
       " (712, 1, 0.11698415891739337),\n",
       " (230, 2, -0.042366163146382994),\n",
       " (77, 1, -0.06276102280887033),\n",
       " (758, 1, -0.0779130727798478),\n",
       " (2, 1, 0.027235980425655407),\n",
       " (515, 2, 0.020556098055398823),\n",
       " (577, 2, -0.10084377303001442),\n",
       " (56, 2, -0.058939989828271984),\n",
       " (774, 1, -0.03841537795946616),\n",
       " (692, 1, -0.009486082907953646),\n",
       " (528, 4, 0.0420194267243092),\n",
       " (826, 2, -0.10441273631181272),\n",
       " (926, 1, -0.08554451002982563),\n",
       " (200, 2, -0.0113720195253147),\n",
       " (227, 5, -0.042238053041948914),\n",
       " (161, 2, 0.0223487374594331),\n",
       " (431, 4, -0.07516705078881573),\n",
       " (233, 2, -0.04425750356595494),\n",
       " (98, 4, -0.058521805165790544),\n",
       " (79, 2, 0.021671114295094804),\n",
       " (795, 1, -0.045062417089193105),\n",
       " (418, 2, -0.02738793413474367),\n",
       " (947, 2, 0.03720021390322829),\n",
       " (205, 4, 0.08214686915383394),\n",
       " (405, 1, -0.013603663770168311),\n",
       " (53, 4, 0.022574805049483535),\n",
       " (684, 1, -0.03933265662579333),\n",
       " (519, 5, 0.03943648557190814),\n",
       " (448, 2, -0.024840104641157094),\n",
       " (1218, 3, 0.1098812090393882),\n",
       " (23, 3, 0.07704941193115002),\n",
       " (241, 4, -0.0234669468322798),\n",
       " (201, 2, -0.03459058084417753),\n",
       " (118, 1, 0.05574187874647107),\n",
       " (168, 1, -0.0323958094761218),\n",
       " (411, 1, -0.056303925897582915),\n",
       " (1017, 3, 0.11268022728297773),\n",
       " (449, 1, -0.007957626293035433),\n",
       " (175, 3, -0.0015316144146205514),\n",
       " (122, 1, 0.16237298927582205),\n",
       " (367, 2, 0.008016330831220483),\n",
       " (228, 4, 0.06273498603774065),\n",
       " (428, 1, -0.08066468517629172),\n",
       " (501, 1, 0.02049338910387538),\n",
       " (429, 1, 0.021780712624836693),\n",
       " (210, 1, -0.02717555148900936),\n",
       " (986, 1, -0.023375574350905683),\n",
       " (1079, 1, 0.06582128165831208),\n",
       " (215, 3, 0.020056557475701745),\n",
       " (231, 1, 0.05059812411271296),\n",
       " (393, 1, 0.011388077698596179),\n",
       " (7, 2, 0.011526348630154355),\n",
       " (44, 1, -0.06144678820316261),\n",
       " (450, 2, 0.013058828939510164),\n",
       " (808, 1, -0.021051238846215854),\n",
       " (307, 1, 0.013059253805994422),\n",
       " (412, 3, -0.07965257442688488),\n",
       " (550, 2, -0.03649116997073665),\n",
       " (204, 3, 0.022735173681178375),\n",
       " (447, 1, 0.03794770379307106),\n",
       " (196, 3, 0.09001119885878286),\n",
       " (545, 1, -0.1425370526253008),\n",
       " (226, 2, 0.00011120309330323245),\n",
       " (202, 5, 0.07780268744992314),\n",
       " (365, 2, -0.05217699444362948),\n",
       " (58, 1, -0.029416913020964764),\n",
       " (222, 3, -0.08109762193778557),\n",
       " (569, 2, 0.0998816381261054),\n",
       " (273, 1, 0.17837502285953785),\n",
       " (194, 3, -0.06492051034277291),\n",
       " (526, 4, 0.0010936666077585927),\n",
       " (679, 5, -0.08096636625636153),\n",
       " (659, 3, -0.0969906749376443),\n",
       " (510, 2, -0.12307896705996321),\n",
       " (178, 4, 0.07027328139083926),\n",
       " (94, 2, 0.06018731053179384),\n",
       " (29, 1, 0.041801810153989025),\n",
       " (188, 3, 0.027687173635465204),\n",
       " (182, 4, 0.034947967017503995),\n",
       " (554, 1, -0.009135968476298665),\n",
       " (386, 2, -0.10906206508066048),\n",
       " (1016, 3, -0.12383546009952216),\n",
       " (401, 2, -0.07636333917207168),\n",
       " (197, 1, -0.008585770520584039),\n",
       " (12, 3, 0.07450534961804313),\n",
       " (831, 2, 0.05679360075125485),\n",
       " (8, 1, 0.013327454579218977),\n",
       " (91, 1, -0.0349470820312773),\n",
       " (585, 1, -0.09865828429668974),\n",
       " (318, 1, 0.05729639943521735),\n",
       " (406, 1, -0.06026440766768683),\n",
       " (732, 1, -0.033857635804568006),\n",
       " (410, 1, 0.12505553349987053),\n",
       " (568, 2, -0.03049971072861531),\n",
       " (183, 4, 0.06224713498565588),\n",
       " (187, 3, -0.01808955495680722),\n",
       " (69, 4, 0.01013088997091276),\n",
       " (180, 5, -0.07736949292463476),\n",
       " (385, 1, -0.07807481052022867),\n",
       " (121, 1, 0.0648069131053967),\n",
       " (451, 1, -0.1382009574096454),\n",
       " (235, 1, 0.101916648421704),\n",
       " (232, 2, 0.055924588088699725),\n",
       " (444, 1, -0.09026307698640935),\n",
       " (150, 1, 0.07670379557189992),\n",
       " (778, 5, 0.015783807152707666),\n",
       " (548, 1, -0.03889639473765234),\n",
       " (101, 2, 0.08918387856668689),\n",
       " (508, 3, 0.12293760093608641),\n",
       " (655, 1, -0.0784881542812257),\n",
       " (380, 2, -0.02731989202182241),\n",
       " (100, 1, 0.03525481271997704),\n",
       " (573, 2, 0.09432883960808823),\n",
       " (1118, 3, 0.057544280180874006),\n",
       " (96, 2, -0.035609549597551055),\n",
       " (1228, 1, -0.034534253123825125),\n",
       " (72, 1, 0.023432579582804536),\n",
       " (1090, 1, 0.06627253702665414),\n",
       " (174, 3, 0.04393806293957818),\n",
       " (181, 3, -0.023595156661677878),\n",
       " (250, 3, 0.024348898849734884),\n",
       " (214, 3, -0.11532179506345451),\n",
       " (597, 2, -0.1876019017077351),\n",
       " (674, 2, 0.08135075841877151),\n",
       " (566, 2, 0.019033135731075713),\n",
       " (743, 1, 0.011552519801492417),\n",
       " (530, 5, -0.041919227954884855),\n",
       " (97, 2, 0.060861722979875535),\n",
       " (1215, 1, 0.06264645859385731),\n",
       " (518, 1, -0.024672520475325296),\n",
       " (211, 3, -0.0019016165111031145),\n",
       " (62, 2, -0.010129829037463118),\n",
       " (88, 1, -0.016433727650992786),\n",
       " (708, 2, 0.0541395540425397),\n",
       " (265, 3, -0.005241203379712718),\n",
       " (199, 4, 0.013146743779980395),\n",
       " (567, 1, 0.05194790992514995),\n",
       " (1274, 1, -0.09091687986594485),\n",
       " (413, 1, -0.11280589679590548),\n",
       " (525, 2, 0.09070574720235232),\n",
       " (64, 3, 0.029314793027290374),\n",
       " (561, 1, 0.045189499161922546),\n",
       " (217, 2, 0.04398257610980864),\n",
       " (177, 4, 0.031640924899640904),\n",
       " (421, 1, 0.13659443267952476),\n",
       " (82, 2, 0.11539067106982216),\n",
       " (218, 1, -0.007916131315812704),\n",
       " (553, 2, 0.04519936752446307),\n",
       " (399, 2, 0.030170618187951036),\n",
       " (193, 5, -0.02819202176444135),\n",
       " (398, 1, -0.03389824642040971),\n",
       " (546, 1, 0.00493520449677129),\n",
       " (50, 4, -0.0017528509718986523),\n",
       " (866, 1, -0.1350151548892498),\n",
       " (219, 4, 0.010139624943738209),\n",
       " (453, 2, 0.05017855028262358),\n",
       " (117, 2, 0.07431179357700526),\n",
       " (523, 2, -0.12568785595156695),\n",
       " (391, 1, -0.12593195300876578),\n",
       " (840, 2, -0.08888718301480095),\n",
       " (452, 1, 0.01769013988869462),\n",
       " (189, 2, 0.006078655338046764)]"
      ]
     },
     "execution_count": 43,
     "metadata": {},
     "output_type": "execute_result"
    }
   ],
   "source": [
    "user_list = u_data[\"user_id\"].tolist()\n",
    "\n",
    "random_index = np.random.randint(low = 0, high=len(user_list), size = 1)[0]\n",
    "\n",
    "#random_index = np.random.randint(low = 0, high=len(user_list), size = 1)[0]\n",
    "counter_user_id = user_list[random_index]\n",
    "rating_list = list(u_data[u_data[\"user_id\"] == counter_user_id][\"rating\"])\n",
    "item_list = list(u_data[u_data[\"user_id\"] == counter_user_id][\"item_id\"])\n",
    "''' Getting random users and ratings made'''\n",
    "item_rating_info = list(zip(item_list, rating_list))\n",
    "print(\"Counter party \", counter_user_id)\n",
    "#print(\"Ratings: \", item_rating_info)\n",
    "not_rated_items = list(set(userItemDF.columns) - set(item_list))\n",
    "random_item_index = np.random.randint(low = 0, high = len(not_rated_items), size = 1)[0]\n",
    "print(\"want to rate item: \", not_rated_items[random_item_index])\n",
    "\n",
    "\n",
    "item_rating_similarity_list = []\n",
    "for item, rat in item_rating_info:\n",
    "    item_rating_similarity_list.append((item, rat, corrDF.loc[not_rated_items[random_item_index]][item]))\n",
    "\n",
    "item_rating_similarity_list"
   ]
  },
  {
   "cell_type": "code",
   "execution_count": 44,
   "metadata": {},
   "outputs": [
    {
     "data": {
      "text/plain": [
       "1.716502074363569"
      ]
     },
     "execution_count": 44,
     "metadata": {},
     "output_type": "execute_result"
    }
   ],
   "source": [
    "recommended_score = 0.0\n",
    "for item, rat, similarity_score in item_rating_similarity_list:\n",
    "    recommended_score += (similarity_score * rat)\n",
    "\n",
    "recommended_score/sum([score for _, _, score in item_rating_similarity_list])"
   ]
  },
  {
   "cell_type": "code",
   "execution_count": 46,
   "metadata": {},
   "outputs": [
    {
     "name": "stdout",
     "output_type": "stream",
     "text": [
      "   movie id  unknown  Action  Adventure  Animation  Children's  Comedy  Crime  \\\n",
      "0         1        0       0          0          1           1       1      0   \n",
      "1         2        0       1          1          0           0       0      0   \n",
      "2         3        0       0          0          0           0       0      0   \n",
      "3         4        0       1          0          0           0       1      0   \n",
      "4         5        0       0          0          0           0       0      1   \n",
      "\n",
      "   Documentary  Drama  Fantasy  Film-Noir  Horror  Musical  Mystery  Romance  \\\n",
      "0            0      0        0          0       0        0        0        0   \n",
      "1            0      0        0          0       0        0        0        0   \n",
      "2            0      0        0          0       0        0        0        0   \n",
      "3            0      1        0          0       0        0        0        0   \n",
      "4            0      1        0          0       0        0        0        0   \n",
      "\n",
      "   Sci-Fi  Thriller  War  Western  \n",
      "0       0         0    0        0  \n",
      "1       0         1    0        0  \n",
      "2       0         1    0        0  \n",
      "3       0         0    0        0  \n",
      "4       0         1    0        0  \n"
     ]
    }
   ],
   "source": [
    "columns_1 = [\"movie id\", \"movie title\", \"release date\", \"video release date\",\n",
    "              \"IMDb URL\",\"unknown\", \"Action\", \"Adventure\", \"Animation\",\n",
    "              \"Children's\", \"Comedy\" ,\"Crime\" , \"Documentary\", \"Drama\", \"Fantasy\" ,\n",
    "              \"Film-Noir\",\"Horror\" ,\"Musical\", \"Mystery\",\"Romance\", \"Sci-Fi\",\n",
    "              \"Thriller\", \"War\",\"Western\"]\n",
    "# Function to read textfile dataset and load it as a Pandas DataFrame\n",
    "def loadData(file, columns):\n",
    "    df = pd.read_table(file, sep='|', encoding='utf-8')\n",
    "    df.columns = columns\n",
    "    return df\n",
    "\n",
    "#u_data = loadData(r\"/Users/patrick.orourke/Desktop/ml-100k/u.item\",columns)\n",
    "#u_data.head(5)\n",
    "\n",
    "itemdf = pd.read_table(r\"C:\\\\Users\\\\Onur\\\\Desktop\\\\ml-100k\\\\u.item\", sep=\"|\", encoding='latin-1', \n",
    "              header=None)\n",
    "itemdf.columns = columns_1\n",
    "itemdf.head()\n",
    "\n",
    "#list() + list(itemdf.columns[5:])\n",
    "selectedCols = [itemdf.columns[0]] + list(itemdf.columns[5:])\n",
    "#[1] + [2, 3]\n",
    "itemdfTemp = itemdf[selectedCols]\n",
    "print(itemdfTemp.head(5))"
   ]
  },
  {
   "cell_type": "code",
   "execution_count": 47,
   "metadata": {},
   "outputs": [
    {
     "data": {
      "text/plain": [
       "'Truth About Cats & Dogs, The (1996)'"
      ]
     },
     "execution_count": 47,
     "metadata": {},
     "output_type": "execute_result"
    }
   ],
   "source": [
    "itemdf.loc[itemdf[\"movie id\"] == 111, \"movie title\"].iloc[0]"
   ]
  },
  {
   "cell_type": "code",
   "execution_count": 48,
   "metadata": {},
   "outputs": [
    {
     "name": "stdout",
     "output_type": "stream",
     "text": [
      "(1682, 4)\n"
     ]
    },
    {
     "data": {
      "text/plain": [
       "array([[   0,    7,    3,   12],\n",
       "       [   1,    2,   20,   16],\n",
       "       [   2,   10,   11,   22],\n",
       "       ...,\n",
       "       [1679, 1661, 1544, 1440],\n",
       "       [1680, 1667, 1663, 1658],\n",
       "       [1681, 1677, 1676, 1675]], dtype=int64)"
      ]
     },
     "execution_count": 48,
     "metadata": {},
     "output_type": "execute_result"
    }
   ],
   "source": [
    "from sklearn.neighbors import NearestNeighbors\n",
    "neigh = NearestNeighbors(metric='cosine', algorithm='brute', n_neighbors=4, n_jobs=-1)\n",
    "neighFit = neigh.fit(itemdfTemp) \n",
    "distance, neighb = neighFit.kneighbors(itemdfTemp)\n",
    "print(neighb.shape)\n",
    "neighb"
   ]
  },
  {
   "cell_type": "code",
   "execution_count": 96,
   "metadata": {},
   "outputs": [
    {
     "name": "stdout",
     "output_type": "stream",
     "text": [
      "Want to predict movie:  Scream (1996)\n",
      "Similar movies based on movie genres:  ['Pocahontas (1995)', 'Wild Bill (1995)', 'English Patient, The (1996)']\n"
     ]
    }
   ],
   "source": [
    "# Want to find the movies similar to movie_ID = 99 based on similar movie genres\n",
    "movie_list = u_data[\"item_id\"].tolist()\n",
    "\n",
    "random_index = np.random.randint(low = 0, high=len(movie_list), size = 1)[0]\n",
    "\n",
    "#random_index = np.random.randint(low = 0, high=len(user_list), size = 1)[0]\n",
    "random_movie_id = movie_list[random_index]\n",
    "random_movie_name =  itemdf.loc[itemdf[\"movie id\"] == random_movie_id, \"movie title\"].iloc[0]\n",
    "print(\"Want to predict movie: \", random_movie_name)\n",
    "\n",
    "similar_movies_ids = neighb[random_movie_id,1::]\n",
    "similar_movies_names = [itemdf.loc[itemdf[\"movie id\"] == i, \"movie title\"].iloc[0] for i in similar_movies_ids]\n",
    "print(\"Similar movies based on movie genres: \", similar_movies_names)\n",
    "\n",
    "#tempData[tempData[\"user_id\"] == random_user_id]"
   ]
  },
  {
   "cell_type": "code",
   "execution_count": null,
   "metadata": {},
   "outputs": [],
   "source": []
  }
 ],
 "metadata": {
  "kernelspec": {
   "display_name": "Python 3",
   "language": "python",
   "name": "python3"
  },
  "language_info": {
   "codemirror_mode": {
    "name": "ipython",
    "version": 3
   },
   "file_extension": ".py",
   "mimetype": "text/x-python",
   "name": "python",
   "nbconvert_exporter": "python",
   "pygments_lexer": "ipython3",
   "version": "3.7.4"
  },
  "pycharm": {
   "stem_cell": {
    "cell_type": "raw",
    "metadata": {
     "collapsed": false
    },
    "source": []
   }
  }
 },
 "nbformat": 4,
 "nbformat_minor": 2
}
